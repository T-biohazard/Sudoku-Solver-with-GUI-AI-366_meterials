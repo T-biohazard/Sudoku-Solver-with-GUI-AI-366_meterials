{
  "nbformat": 4,
  "nbformat_minor": 0,
  "metadata": {
    "colab": {
      "provenance": [],
      "collapsed_sections": []
    },
    "kernelspec": {
      "name": "python3",
      "display_name": "Python 3"
    },
    "language_info": {
      "name": "python"
    }
  },
  "cells": [
    {
      "cell_type": "markdown",
      "source": [
        "# Using dictionary as Graph"
      ],
      "metadata": {
        "id": "XSeWyxSWCb_-"
      }
    },
    {
      "cell_type": "code",
      "source": [
        "# importing networkx\n",
        "import networkx as nx\n",
        "import numpy as np\n",
        "# importing matplotlib.pyplot\n",
        "import matplotlib.pyplot as plt"
      ],
      "metadata": {
        "id": "44zUX2-FDIxF"
      },
      "execution_count": 5,
      "outputs": []
    },
    {
      "cell_type": "code",
      "source": [
        "V = {'A','B','C','D','E','F','G','H','I','J'}\n",
        "E = [('A','B',2),('A','E',1),('A','C',2),('B','E',2),('B','I',1),('C','D',2),('C','F',1),\n",
        "     ('D','F',4),('D','H',3),('E','F',2),('E','I',3),('F','G',2),('F','H',5),('H','J',4),\n",
        "     ('I','F',1),('J','G',2)]\n",
        "pos = {\n",
        "   'A':[1,4],'B':[3,5],'C':[3,3],'D':[2,2],'E':[4,4],'F':[0,2],'G':[5,4],'H':[1,1],\n",
        "  'I':[5,5],'J':[4,2]\n",
        "}\n",
        "\n"
      ],
      "metadata": {
        "colab": {
          "base_uri": "https://localhost:8080/",
          "height": 130
        },
        "id": "0_EWcLjOCplf",
        "outputId": "fd6c7ceb-6a1b-458d-a7f0-e3e2d261e75c"
      },
      "execution_count": 2,
      "outputs": [
        {
          "output_type": "error",
          "ename": "IndentationError",
          "evalue": "ignored",
          "traceback": [
            "\u001b[0;36m  File \u001b[0;32m\"<tokenize>\"\u001b[0;36m, line \u001b[0;32m36\u001b[0m\n\u001b[0;31m    ucs_test_graph = {\u001b[0m\n\u001b[0m    ^\u001b[0m\n\u001b[0;31mIndentationError\u001b[0m\u001b[0;31m:\u001b[0m unindent does not match any outer indentation level\n"
          ]
        }
      ]
    },
    {
      "cell_type": "markdown",
      "source": [
        "# Uninformed search:  UCS"
      ],
      "metadata": {
        "id": "dN8PaMxBAlyO"
      }
    },
    {
      "cell_type": "code",
      "execution_count": null,
      "metadata": {
        "id": "wQL3nDuj_F8h"
      },
      "outputs": [],
      "source": [
        "\n",
        "\n",
        "\n",
        "def ucs_weight(from_node, to_node, weights=None):\n",
        "    \"\"\"\n",
        "    Returns the UCS weight for a edge between from and to\n",
        "    Assumption: There is no edge with weight >= 10e100 (You can change it)\n",
        "    :param from_node: The node edge starts from\n",
        "    :param to_node: The node edge ends to\n",
        "    :param weights: Dictionary of weights; maps `(from, to) -> weight`\n",
        "    :return: Returns the weight of edge between from and to.\n",
        "    \"\"\"\n",
        "    return weights.get((from_node, to_node), 10e100) if weights else 1\n",
        "\n",
        "\n",
        "def ucs(graph, start, end, weights=None):\n",
        "    \"\"\"\n",
        "    Function to compute UCS(Uniform Cost Search) for a graph\n",
        "    :param graph: The graph to compute UCS for\n",
        "    :param start: start node\n",
        "    :param end: end node\n",
        "    :param weights: A dictionary of weights; maps (start_node, end_node) -> weight\n",
        "    \"\"\"\n",
        "    frontier = PriorityQueue()\n",
        "    frontier.put((0, start))  # (priority, node)\n",
        "    explored = []\n",
        "\n",
        "    while True:\n",
        "        if frontier.empty():\n",
        "            raise Exception(\"No way Exception\")\n",
        "\n",
        "        ucs_w, current_node = frontier.get()\n",
        "        \n",
        "        explored.append(current_node)\n",
        "        \n",
        "\n",
        "        if current_node == end:\n",
        "            print(explored)\n",
        "            return\n",
        "        \n",
        "        for node in graph[current_node]:\n",
        "            if node not in explored:\n",
        "                frontier.put((\n",
        "                    ucs_w + ucs_weight(current_node, node, weights),\n",
        "                    node\n",
        "                ))\n",
        "                "
      ]
    },
    {
      "cell_type": "code",
      "source": [
        "ucs_test_graph = {\n",
        "        'A': ['B', 'C', 'E'],\n",
        "        'B': ['E', 'I'],\n",
        "        'C': ['F', 'D'],\n",
        "        'D': ['F', 'H'],\n",
        "        'E': ['I', 'F'],\n",
        "        'F': ['G', 'H'],\n",
        "        'G': [],\n",
        "        'H': ['J'],\n",
        "        'I': ['G','F'],\n",
        "        'J': ['G']}\n",
        "\n",
        "ucs_test_weight={\n",
        "    ('A','B'):2,\n",
        "    ('A','E'):1,\n",
        "    ('A','C'):2,\n",
        "    ('B','E'):2,\n",
        "    ('B','I'):1,\n",
        "    ('C','D'):2,\n",
        "    ('C','F'):1,\n",
        "    ('D','F'):4,\n",
        "    ('D','H'):3,\n",
        "     ('E','F'):2,\n",
        "     ('E','I'):3,\n",
        "     ('F','G'):2,\n",
        "     ('F','H'):5,\n",
        "     ('H','J'):4,\n",
        "     ('I','F'):1,\n",
        "     ('J','G'):2\n",
        "}\n",
        "\n",
        "    ucs(ucs_test_graph, 'A', 'G', ucs_test_weight)\n",
        "\n"
      ],
      "metadata": {
        "colab": {
          "base_uri": "https://localhost:8080/",
          "height": 252
        },
        "id": "KoqIdT-GAycW",
        "outputId": "e3f8677e-a822-4d3a-ec84-d21b6aa9dbfd"
      },
      "execution_count": 19,
      "outputs": [
        {
          "output_type": "stream",
          "name": "stdout",
          "text": [
            "BFS:\n"
          ]
        },
        {
          "output_type": "error",
          "ename": "NameError",
          "evalue": "ignored",
          "traceback": [
            "\u001b[0;31m---------------------------------------------------------------------------\u001b[0m",
            "\u001b[0;31mNameError\u001b[0m                                 Traceback (most recent call last)",
            "\u001b[0;32m<ipython-input-19-3579987585de>\u001b[0m in \u001b[0;36m<module>\u001b[0;34m\u001b[0m\n\u001b[1;32m     16\u001b[0m \u001b[0;34m\u001b[0m\u001b[0m\n\u001b[1;32m     17\u001b[0m     \u001b[0mprint\u001b[0m\u001b[0;34m(\u001b[0m\u001b[0;34m\"BFS:\"\u001b[0m\u001b[0;34m)\u001b[0m\u001b[0;34m\u001b[0m\u001b[0;34m\u001b[0m\u001b[0m\n\u001b[0;32m---> 18\u001b[0;31m     \u001b[0mbfs\u001b[0m\u001b[0;34m(\u001b[0m\u001b[0mfirst_graph\u001b[0m\u001b[0;34m,\u001b[0m \u001b[0;34m'A'\u001b[0m\u001b[0;34m,\u001b[0m \u001b[0;34m'G'\u001b[0m\u001b[0;34m)\u001b[0m\u001b[0;34m\u001b[0m\u001b[0;34m\u001b[0m\u001b[0m\n\u001b[0m\u001b[1;32m     19\u001b[0m     \u001b[0mprint\u001b[0m\u001b[0;34m(\u001b[0m\u001b[0;34m\"DFS:\"\u001b[0m\u001b[0;34m)\u001b[0m\u001b[0;34m\u001b[0m\u001b[0;34m\u001b[0m\u001b[0m\n\u001b[1;32m     20\u001b[0m     \u001b[0mdfs\u001b[0m\u001b[0;34m(\u001b[0m\u001b[0mfirst_graph\u001b[0m\u001b[0;34m,\u001b[0m \u001b[0;34m'A'\u001b[0m\u001b[0;34m,\u001b[0m \u001b[0;34m'G'\u001b[0m\u001b[0;34m)\u001b[0m\u001b[0;34m\u001b[0m\u001b[0;34m\u001b[0m\u001b[0m\n",
            "\u001b[0;31mNameError\u001b[0m: name 'bfs' is not defined"
          ]
        }
      ]
    },
    {
      "cell_type": "markdown",
      "source": [
        "# A* search"
      ],
      "metadata": {
        "id": "kl3IvBzYAVre"
      }
    },
    {
      "cell_type": "markdown",
      "source": [
        "\n",
        "*   Step1: Place the starting node in the OPEN list.\n",
        "*   Step 2: Check if the OPEN list is empty or not, if the list is empty then return failure and stops.\n",
        "*  Step 3: Select the node from the OPEN list which has the smallest value of evaluation function (g+h), if node n is goal node then return success and stop, otherwise\n",
        "*  Step 4: Expand node n and generate all of its successors, and put n into the closed list. For each successor n', check whether n' is already in the OPEN or CLOSED list, if not then compute evaluation function for n' and place into Open list.\n",
        "\n",
        "* Step 5: Else if node n' is already in OPEN and CLOSED, then it should be attached to the back pointer which reflects the lowest g(n') value.\n",
        "\n",
        "* Step 6: Return to Step 2.\n"
      ],
      "metadata": {
        "id": "QelzD8xjXrqd"
      }
    },
    {
      "cell_type": "code",
      "source": [
        "from collections import deque\n",
        " \n",
        "class Graph:\n",
        "    def __init__(self, adjac_lis):\n",
        "        self.adjac_lis = adjac_lis\n",
        " \n",
        "    def get_neighbors(self, v):\n",
        "        return self.adjac_lis[v]\n",
        " \n",
        "    # This is heuristic function which is having equal values for all nodes\n",
        "    def h(self, n):\n",
        "        H = {\n",
        "            'A': 28,\n",
        "            'B': 22,\n",
        "            'C': 19,\n",
        "            'D': 16,\n",
        "            'E': 14,\n",
        "            'F': 10,\n",
        "            'I': 8,\n",
        "            'J': 6,\n",
        "            'H': 9,\n",
        "            'G': 0,\n",
        "        }\n",
        " \n",
        "        return H[n]\n",
        " \n",
        "    def a_star_algorithm(self, start, stop):\n",
        "        # In this open_lst is a lisy of nodes which have been visited, but who's \n",
        "        # neighbours haven't all been always inspected, It starts off with the start \n",
        "  #node\n",
        "        # And closed_lst is a list of nodes which have been visited\n",
        "        # and who's neighbors have been always inspected\n",
        "        open_lst = set([start])\n",
        "        closed_lst = set([])\n",
        " \n",
        "        # poo has present distances from start to all other nodes\n",
        "        # the default value is +infinity\n",
        "        poo = {}\n",
        "        poo[start] = 0\n",
        " \n",
        "        # par contains an adjac mapping of all nodes\n",
        "        par = {}\n",
        "        par[start] = start\n",
        " \n",
        "        while len(open_lst) > 0:\n",
        "            n = None\n",
        " \n",
        "            # it will find a node with the lowest value of f() -\n",
        "            for v in open_lst:\n",
        "                if n == None or poo[v] + self.h(v) < poo[n] + self.h(n):\n",
        "                    n = v;\n",
        " \n",
        "            if n == None:\n",
        "                print('Path does not exist!')\n",
        "                return None\n",
        " \n",
        "            # if the current node is the stop\n",
        "            # then we start again from start\n",
        "            if n == stop:\n",
        "                reconst_path = []\n",
        " \n",
        "                while par[n] != n:\n",
        "                    reconst_path.append(n)\n",
        "                    n = par[n]\n",
        " \n",
        "                reconst_path.append(start)\n",
        " \n",
        "                reconst_path.reverse()\n",
        " \n",
        "                #print('Path found: {}'.format(reconst_path))\n",
        "                return reconst_path\n",
        " \n",
        "            # for all the neighbors of the current node do\n",
        "            for (m, weight) in self.get_neighbors(n):\n",
        "              # if the current node is not presentin both open_lst and closed_lst\n",
        "                # add it to open_lst and note n as it's par\n",
        "                if m not in open_lst and m not in closed_lst:\n",
        "                    open_lst.add(m)\n",
        "                    par[m] = n\n",
        "                    poo[m] = poo[n] + weight\n",
        " \n",
        "                # otherwise, check if it's quicker to first visit n, then m\n",
        "                # and if it is, update par data and poo data\n",
        "                # and if the node was in the closed_lst, move it to open_lst\n",
        "                else:\n",
        "                    if poo[m] > poo[n] + weight:\n",
        "                        poo[m] = poo[n] + weight\n",
        "                        par[m] = n\n",
        " \n",
        "                        if m in closed_lst:\n",
        "                            closed_lst.remove(m)\n",
        "                            open_lst.add(m)\n",
        " \n",
        "            # remove n from the open_lst, and add it to closed_lst\n",
        "            # because all of his neighbors were inspected\n",
        "            open_lst.remove(n)\n",
        "            closed_lst.add(n)\n",
        " \n",
        "        print('Path does not exist!')\n",
        "        return None"
      ],
      "metadata": {
        "id": "gBw-f3IhAVKu"
      },
      "execution_count": 20,
      "outputs": []
    },
    {
      "cell_type": "code",
      "source": [
        "adjac_lis = {\n",
        "  \n",
        "         'A': [('E',1), ('B',2), ('C',2)],\n",
        "         'B': [('I',1), ('E',2)],\n",
        "         'C': [('D',2), ('F',1)],\n",
        "         'D': [('F',4) ,('H',3)],\n",
        "         'E': [('I',3),('F',2)],\n",
        "         'F': [('G',2),('H',5)],\n",
        "         'H': [('J',4)],\n",
        "         'I': [('F',1),('G',2)],\n",
        "         'J': [('G',2)],\n",
        "         \n",
        "}\n",
        "\n",
        "\n",
        "g = nx.DiGraph(graph)\n",
        "nx.draw(g,with_labels=True)\n",
        "\n",
        "\n",
        "adjac_lis = {\n",
        "    'A': [('B', 0), ('C', 0), ('e', 0)],\n",
        "    'B': [('D', 5)],\n",
        "    'C': [('D', 12)]\n",
        "}\n",
        "\n",
        "graph1 = Graph(adjac_lis)\n",
        "graph1.a_star_algorithm('A', 'G')"
      ],
      "metadata": {
        "colab": {
          "base_uri": "https://localhost:8080/",
          "height": 337
        },
        "id": "Jr7tNigdEHEu",
        "outputId": "db631faf-330f-48c1-c1ea-bf44fb2baf1d"
      },
      "execution_count": null,
      "outputs": [
        {
          "output_type": "execute_result",
          "data": {
            "text/plain": [
              "['A', 'B', 'D']"
            ]
          },
          "metadata": {},
          "execution_count": 76
        },
        {
          "output_type": "display_data",
          "data": {
            "text/plain": [
              "<Figure size 432x288 with 1 Axes>"
            ],
            "image/png": "[encoded data removed]"
          },
          "metadata": {}
        }
      ]
    },
    {
      "cell_type": "markdown",
      "source": [
        "## Path finder"
      ],
      "metadata": {
        "id": "v9VjTOH-ZQil"
      }
    },
    {
      "cell_type": "code",
      "source": [
        "#################################\n",
        "## Describes the rectangle map ##\n",
        "## - S - Start point           ##\n",
        "## - E - End point             ##\n",
        "## - # - Wall                  ##\n",
        "#################################\n",
        "MAP = [\n",
        "    \".............\",\n",
        "    \"..#..........\",\n",
        "    \"..#...#......\",\n",
        "    \"..#.E.#......\",\n",
        "    \"..#####......\",\n",
        "    \"S............\",\n",
        "]"
      ],
      "metadata": {
        "id": "Rm8LWKq3EMZ-"
      },
      "execution_count": null,
      "outputs": []
    },
    {
      "cell_type": "code",
      "source": [
        "### Describes model of Map\n",
        "\n",
        "class SquareGrid:\n",
        "    \n",
        "    def __init__(self, string_map):\n",
        "        self.string_map = string_map\n",
        "        self.end_position = None\n",
        "        self.start_position = None\n",
        "        self.walls = []\n",
        "        self.height = len(string_map)\n",
        "        self.width  = len(string_map[0])\n",
        "        \n",
        "        ## Validate input\n",
        "        for i in range(0, self.height):\n",
        "            if(len(string_map[i]) != self.width):\n",
        "                 raise Exception(\"Map does not have correct size\")\n",
        "            for j in range(0, self.width):\n",
        "                if(string_map[i][j] == \"#\"):\n",
        "                    self.walls.append((i, j))\n",
        "                if(string_map[i][j] == \"S\"):\n",
        "                    self.start_position = (i, j)\n",
        "                if(string_map[i][j] == \"E\"):\n",
        "                    self.end_position = (i, j)\n",
        "        if(self.end_position == None or self.start_position == None):\n",
        "            raise Exception(\"Map does not have 'Start' or 'End' Positions\")\n",
        "            \n",
        "    \n",
        "    def in_bounds(self, id):\n",
        "        (x, y) = id\n",
        "        return 0 <= x < self.width and 0 <= y < self.height\n",
        "    \n",
        "    def passable(self, id):\n",
        "        return id not in self.walls\n",
        "    \n",
        "    def neighbors(self, id):\n",
        "        (x, y) = id\n",
        "        results = [(x+1, y), (x, y-1), (x-1, y), (x, y+1)]\n",
        "\n",
        "        results = filter(self.in_bounds, results)\n",
        "        results = filter(self.passable, results)\n",
        "        return results\n",
        "    \n",
        "    def cost(self, current, next):\n",
        "        return 1\n",
        "    \n",
        "        \n",
        "    def get_start_end_positions(self):\n",
        "        return self.start_position, self.end_position;\n",
        "    \n",
        "    def draw(self, path = []):\n",
        "        new_map = []\n",
        "        # Fill empty\n",
        "        for x in range(self.height):\n",
        "            new_map.append(\".\" * self.width)\n",
        "\n",
        "        # Draw Walls\n",
        "        for x in self.walls:\n",
        "            (i, j) = x\n",
        "            row = list(new_map[i])\n",
        "            row[j] = \"#\"\n",
        "            new_map[i] = \"\".join(row)\n",
        "\n",
        "        # Draw Path\n",
        "        for x in path:\n",
        "            (i, j) = x\n",
        "            row = list(new_map[i])\n",
        "            row[j] = \"x\"\n",
        "            new_map[i] = \"\".join(row)\n",
        "        \n",
        "        # Draw Start end End  Point\n",
        "        (i, j) = self.start_position\n",
        "        row = list(new_map[i])\n",
        "        row[j] = \"S\"\n",
        "        new_map[i] = \"\".join(row)\n",
        "\n",
        "        (i, j) = self.end_position\n",
        "        row = list(new_map[i])\n",
        "        row[j] = \"E\"\n",
        "        new_map[i] = \"\".join(row)\n",
        "\n",
        "        # Draw Map\n",
        "        for i in new_map:\n",
        "            print(i)"
      ],
      "metadata": {
        "id": "dTj2RN4pZeE1"
      },
      "execution_count": null,
      "outputs": []
    },
    {
      "cell_type": "code",
      "source": [
        "### Create a Map and draw it\n",
        "g = SquareGrid(MAP)\n",
        "g.draw()"
      ],
      "metadata": {
        "colab": {
          "base_uri": "https://localhost:8080/"
        },
        "id": "_4YZJX_hZfw0",
        "outputId": "33aeadef-04a9-4e8b-a44a-fa70bf4fb60b"
      },
      "execution_count": null,
      "outputs": [
        {
          "output_type": "stream",
          "name": "stdout",
          "text": [
            ".............\n",
            "..#..........\n",
            "..#...#......\n",
            "..#.E.#......\n",
            "..#####......\n",
            "S............\n"
          ]
        }
      ]
    },
    {
      "cell_type": "code",
      "source": [
        "### Queue with priority\n",
        "import heapq\n",
        "\n",
        "class PriorityQueue:\n",
        "    def __init__(self):\n",
        "        self.elements = []\n",
        "    \n",
        "    def empty(self):\n",
        "        return len(self.elements) == 0\n",
        "    \n",
        "    def put(self, item, priority):\n",
        "        heapq.heappush(self.elements, (priority, item))\n",
        "    \n",
        "    def get(self):\n",
        "        return heapq.heappop(self.elements)[1]"
      ],
      "metadata": {
        "id": "EzPSWJWZZjls"
      },
      "execution_count": null,
      "outputs": []
    },
    {
      "cell_type": "code",
      "source": [
        "### Heuristic function for accounting in cost\n",
        "def heuristic(a, b):\n",
        "    (x1, y1) = a\n",
        "    (x2, y2) = b\n",
        "    return ((x1 - x2)**2 + (y1 - y2)**2)**.5"
      ],
      "metadata": {
        "id": "CXzsjM_iZloV"
      },
      "execution_count": null,
      "outputs": []
    },
    {
      "cell_type": "code",
      "source": [
        "### A Star Search algorithm\n",
        "def a_star_search(graph, start, goal):\n",
        "    frontier = PriorityQueue()\n",
        "    frontier.put(start, 0)\n",
        "    came_from = {}\n",
        "    cost_so_far = {}\n",
        "    came_from[start] = None\n",
        "    cost_so_far[start] = 0\n",
        "    counter = 0\n",
        "    \n",
        "    while not frontier.empty():\n",
        "        current = frontier.get()\n",
        "        if current == goal:\n",
        "            break\n",
        "\n",
        "        for next in graph.neighbors(current):\n",
        "            new_cost = cost_so_far[current] + graph.cost(current, next)\n",
        "            if next not in cost_so_far or new_cost < cost_so_far[next]:\n",
        "                cost_so_far[next] = new_cost\n",
        "                priority = new_cost + heuristic(goal, next)\n",
        "                frontier.put(next, priority)\n",
        "                came_from[next] = current\n",
        "                counter += 1   \n",
        "    \n",
        "    return came_from, cost_so_far, counter\n",
        "\n",
        "### Finds the way between points according to dictionary\n",
        "def build_path(came_from, start, goal):\n",
        "    result = []\n",
        "    item = goal\n",
        "    result.append(item)\n",
        "    while (item != start):\n",
        "        item = came_from.get(item)\n",
        "        if(item == None):\n",
        "            raise Exception('There is no path')\n",
        "        result.append(item);\n",
        "    \n",
        "    return result[::-1]; "
      ],
      "metadata": {
        "id": "kiNhCJihZpIN"
      },
      "execution_count": null,
      "outputs": []
    },
    {
      "cell_type": "code",
      "source": [
        "### Run Search\n",
        "start, goal = g.get_start_end_positions()\n",
        "came_from, cost_so_far, counter = a_star_search(g, start, goal)\n",
        "\n",
        "### Build Path\n",
        "path = build_path(came_from, start, goal)\n",
        "path.remove(start)\n",
        "path.remove(goal)\n",
        "\n",
        "### See result\n",
        "print(g.get_start_end_positions())\n",
        "print(path)"
      ],
      "metadata": {
        "colab": {
          "base_uri": "https://localhost:8080/"
        },
        "id": "732gN9pMZvDl",
        "outputId": "af494cff-5d20-416a-ea20-d70fd8f56739"
      },
      "execution_count": null,
      "outputs": [
        {
          "output_type": "stream",
          "name": "stdout",
          "text": [
            "((5, 0), (3, 4))\n",
            "[(5, 1), (4, 1), (3, 1), (2, 1), (1, 1), (0, 1), (0, 2), (0, 3), (1, 3), (2, 3), (2, 4)]\n"
          ]
        }
      ]
    },
    {
      "cell_type": "code",
      "source": [
        "### Draw Path\n",
        "g.draw(path)"
      ],
      "metadata": {
        "colab": {
          "base_uri": "https://localhost:8080/"
        },
        "id": "R1gVH60PZ3N8",
        "outputId": "8d51bd59-78d9-4d97-e6b7-28fafaa3259c"
      },
      "execution_count": null,
      "outputs": [
        {
          "output_type": "stream",
          "name": "stdout",
          "text": [
            ".xxx.........\n",
            ".x#x.........\n",
            ".x#xx.#......\n",
            ".x#.E.#......\n",
            ".x#####......\n",
            "Sx...........\n"
          ]
        }
      ]
    },
    {
      "cell_type": "code",
      "source": [],
      "metadata": {
        "id": "Bk-BJKM6Z54N"
      },
      "execution_count": null,
      "outputs": []
    }
  ]
}