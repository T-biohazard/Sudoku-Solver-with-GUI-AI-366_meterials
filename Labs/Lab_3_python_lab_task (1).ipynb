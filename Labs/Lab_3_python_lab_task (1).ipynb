{
  "nbformat": 4,
  "nbformat_minor": 0,
  "metadata": {
    "colab": {
      "provenance": [],
      "collapsed_sections": [],
      "toc_visible": true
    },
    "kernelspec": {
      "name": "python3",
      "display_name": "Python 3"
    },
    "language_info": {
      "name": "python"
    }
  },
  "cells": [
    {
      "cell_type": "markdown",
      "source": [
        "Name: Md Tahsin\n",
        "ID: 2020-2-60-112\n",
        "\n",
        "## Python Lab Task (Mark 10):\n",
        "\n",
        "Write a program in Python to calculate employee net salary. This program will manage input from the user as well as random values for net salary calculation. Please pay attention to the following conditions:\n",
        "\n",
        "| Gross Salary Range | Income  Tax | House  Rent | Medical  Expenses |\n",
        "|---------------------|-------------|-------------|-------------------|\n",
        "| 0 – 10000           | 0%          | 5%          | 2%                |\n",
        "| 10000 – 20000       | 2%          | 10%         | 4%                |\n",
        "| 20000 – 40000       | 4%          | 15%         | 6%                |\n",
        "| 40000 - 60000       | 6%          | 20%         | 8%                |\n",
        "| 60000 – 80000       | 8%          | 25%         | 10%               |\n",
        "| 80000 and above     | 10%         | 30%         | 12%               |\n",
        "\n",
        "\n",
        "Formula for calculating net salary, taking into account gross salary as input.\n",
        "\n",
        "**Input type 1:** Take Gross Salary as input\n",
        "\n",
        "**Input type 2:** Take Random Gross Salary value (hint. use numpy random)\n",
        "\n",
        "**Formula:**\n",
        "\n",
        "Income Tax (IT) = Gross salary * Percentage of Income Tax\n",
        "\n",
        "House Rent (HR) = Gross salary * Percentage of House Rent\n",
        "\n",
        "Medical Expenses (ME) = Gross salary * Percentage of Medical Expenses\n",
        "\n",
        "Net salary = Gross salary – (IT+HR+ME)\n",
        "\n",
        "**Output:** Net Salary\n",
        "\n"
      ],
      "metadata": {
        "id": "k8O1rp3m65ut"
      }
    },
    {
      "cell_type": "markdown",
      "source": [
        "## Based on the above description complete the following tasks"
      ],
      "metadata": {
        "id": "U8wK6PiX-AE0"
      }
    },
    {
      "cell_type": "markdown",
      "source": [
        "### Create a net salary calculator function by using given Formulas"
      ],
      "metadata": {
        "id": "jFFL8jap8qUF"
      }
    },
    {
      "cell_type": "code",
      "execution_count": 1,
      "metadata": {
        "id": "AQDH9Pc1Zv0T"
      },
      "outputs": [],
      "source": [
        "def calculator(salary):\n",
        "      tax,houserent,medicalexpense = 0,0,0\n",
        "      if salary<10000:\n",
        "          tax = 0\n",
        "          houserent = salary*0.05\n",
        "          medicalexpense = salary*0.02\n",
        "      elif salary>=10000 and salary<20000:\n",
        "            tax = salary * 0.02\n",
        "            houserent = salary*0.1\n",
        "            medicalexpense = salary*0.04\n",
        "      elif salary>=20000 and salary<40000:   \n",
        "            tax = salary*0.04\n",
        "            houserent = salary*0.15\n",
        "            medicalexpense = salary*0.06      \n",
        "      elif salary>=40000 and salary<60000:   \n",
        "            tax = salary*0.06\n",
        "            houserent = salary*0.2\n",
        "            medicalexpense = salary*0.08\n",
        "      elif salary>=60000 and salary<80000:   \n",
        "            tax = salary*0.08\n",
        "            houserent = salary*0.25\n",
        "            medicalexpense = salary*0.1  \n",
        "      elif salary>=80000:   \n",
        "            tax = salary*0.1\n",
        "            houserent = salary*0.3\n",
        "            medicalexpense = salary*0.12                 \n",
        "      salary = salary - tax - houserent - medicalexpense\n",
        "      return salary\n",
        "\n",
        "\n"
      ]
    },
    {
      "cell_type": "markdown",
      "source": [
        "### Solve this problem using OOP\n",
        "\n",
        "\n",
        "\n",
        "*   Create a class name **net_salary_calculator**\n",
        "*   In this class add a constructor \n",
        "*   In this class add a function for **input()** and **ouput()** operations\n",
        "*   Remember your **input()** function must support both keyboard input and random function\n",
        "* Add required functions for net salary calculation\n",
        "\n"
      ],
      "metadata": {
        "id": "0sDMgu1h-d42"
      }
    },
    {
      "cell_type": "code",
      "source": [
        "class net_salary_calculator:\n",
        "        def __init__(self):\n",
        "                salary,hrent,mexpense,itax = 0,0,0,0\n",
        "        def inputval(self,randtrue,given,val):\n",
        "               if randtrue:\n",
        "                   x = random.choice(1000000)\n",
        "               elif not randtrue and not given:   \n",
        "                   x = int(input())\n",
        "               else:\n",
        "                   x = val\n",
        "               self.salary = x\n",
        "               return         \n",
        "        def outputval(self):\n",
        "               print(self.salary)\n",
        "               return\n",
        "        def calculator(self):\n",
        "                tax,houserent,medicalexpense = 0,0,0\n",
        "                if self.salary<10000:\n",
        "                   tax = 0\n",
        "                   houserent = self.salary*0.05\n",
        "                   medicalexpense = self.salary*0.02\n",
        "                elif self.salary>=10000 and self.salary<20000:\n",
        "                    tax = self.salary * 0.02\n",
        "                    houserent = self.salary*0.1\n",
        "                    medicalexpense = self.salary*0.04\n",
        "                elif self.salary>=20000 and self.salary<40000:   \n",
        "                      tax = self.salary*0.04\n",
        "                      houserent = self.salary*0.15\n",
        "                      medicalexpense = self.salary*0.06      \n",
        "                elif self.salary>=40000 and self.salary<60000:   \n",
        "                      tax = self.salary*0.06\n",
        "                      houserent = self.salary*0.2\n",
        "                      medicalexpense = self.salary*0.08\n",
        "                elif self.salary>=60000 and self.salary<80000:   \n",
        "                      tax = self.salary*0.08\n",
        "                      houserent = self.salary*0.25\n",
        "                      medicalexpense =self.salary*0.1  \n",
        "                elif self.salary>=80000:   \n",
        "                     tax = self.salary*0.1\n",
        "                     houserent = self.salary*0.3\n",
        "                     medicalexpense = self.salary*0.12          \n",
        "                self.salary = self.salary - tax - houserent - medicalexpense\n",
        "                self.itax = tax\n",
        "                self.hrent = houserent\n",
        "                self.mexpense = medicalexpense\n",
        "                return\n",
        "\n",
        "                   "
      ],
      "metadata": {
        "id": "3-yYCwojAJts"
      },
      "execution_count": 5,
      "outputs": []
    },
    {
      "cell_type": "markdown",
      "source": [
        "### Test net salary calculator"
      ],
      "metadata": {
        "id": "tUqMFj3R84Vs"
      }
    },
    {
      "cell_type": "markdown",
      "source": [
        "#### Test by net salary calculator function by taking gross salary as input from keyboard(hint: use python input() function)"
      ],
      "metadata": {
        "id": "HYZEAzCS9N9E"
      }
    },
    {
      "cell_type": "code",
      "source": [
        "x = int(input())\n",
        "print(calculator(x))"
      ],
      "metadata": {
        "id": "bgsU4NRV89pF"
      },
      "execution_count": null,
      "outputs": []
    },
    {
      "cell_type": "markdown",
      "source": [
        "#### Test net salary calculator function by taking gross salary as random value (hint: use numpy random function)"
      ],
      "metadata": {
        "id": "dNjRXUBA9Z7V"
      }
    },
    {
      "cell_type": "code",
      "source": [
        "from numpy import random\n",
        "x = random.choice(1000000)\n",
        "print(calculator(x))"
      ],
      "metadata": {
        "id": "NV9kAmKl9ijd"
      },
      "execution_count": null,
      "outputs": []
    },
    {
      "cell_type": "markdown",
      "source": [
        "#### Test net_salary_calculator class\n"
      ],
      "metadata": {
        "id": "f7FBPHZlAMAt"
      }
    },
    {
      "cell_type": "code",
      "source": [
        "x = net_salary_calculator()\n",
        "x.inputval(1,0,0)\n",
        "x.calculator()\n",
        "x.outputval()\n"
      ],
      "metadata": {
        "id": "fkoX8EjDA_oF",
        "colab": {
          "base_uri": "https://localhost:8080/",
          "height": 226
        },
        "outputId": "ac527b2d-37d6-43e1-f816-55adb4b15217"
      },
      "execution_count": 4,
      "outputs": [
        {
          "output_type": "error",
          "ename": "NameError",
          "evalue": "ignored",
          "traceback": [
            "\u001b[0;31m---------------------------------------------------------------------------\u001b[0m",
            "\u001b[0;31mNameError\u001b[0m                                 Traceback (most recent call last)",
            "\u001b[0;32m<ipython-input-4-a268d28117d2>\u001b[0m in \u001b[0;36m<module>\u001b[0;34m\u001b[0m\n\u001b[0;32m----> 1\u001b[0;31m \u001b[0mx\u001b[0m \u001b[0;34m=\u001b[0m \u001b[0mnet_salary_calculator\u001b[0m\u001b[0;34m(\u001b[0m\u001b[0;34m)\u001b[0m\u001b[0;34m\u001b[0m\u001b[0;34m\u001b[0m\u001b[0m\n\u001b[0m\u001b[1;32m      2\u001b[0m \u001b[0mx\u001b[0m\u001b[0;34m.\u001b[0m\u001b[0minputval\u001b[0m\u001b[0;34m(\u001b[0m\u001b[0;36m1\u001b[0m\u001b[0;34m,\u001b[0m\u001b[0;36m0\u001b[0m\u001b[0;34m,\u001b[0m\u001b[0;36m0\u001b[0m\u001b[0;34m)\u001b[0m\u001b[0;34m\u001b[0m\u001b[0;34m\u001b[0m\u001b[0m\n\u001b[1;32m      3\u001b[0m \u001b[0mx\u001b[0m\u001b[0;34m.\u001b[0m\u001b[0mcalculator\u001b[0m\u001b[0;34m(\u001b[0m\u001b[0;34m)\u001b[0m\u001b[0;34m\u001b[0m\u001b[0;34m\u001b[0m\u001b[0m\n\u001b[1;32m      4\u001b[0m \u001b[0mx\u001b[0m\u001b[0;34m.\u001b[0m\u001b[0moutputval\u001b[0m\u001b[0;34m(\u001b[0m\u001b[0;34m)\u001b[0m\u001b[0;34m\u001b[0m\u001b[0;34m\u001b[0m\u001b[0m\n",
            "\u001b[0;31mNameError\u001b[0m: name 'net_salary_calculator' is not defined"
          ]
        }
      ]
    },
    {
      "cell_type": "markdown",
      "source": [
        "### Draw a graph using matplotlib based on gross salary range vs Income tax, gross salary range vs house rent and gross salary range vs medical expenses.\n",
        "\n",
        "\n",
        "In this graph,\n",
        "* Gross salary for X- axis. Take following values for X-axis: [5000, 15000, 30000, 50000, 70000, 90000]\n",
        "* Income tax, house rent , medical expenses values for Y-axis. (hint use np.linspace to get range of values from the list. For example, income tax 0% to 10% total 6 values. Then use that value to calculate salary.)"
      ],
      "metadata": {
        "id": "KbF9oOTxAsDE"
      }
    },
    {
      "cell_type": "code",
      "source": [
        "import matplotlib.pyplot as plt\n",
        "x =  [5000, 15000, 30000, 50000, 70000, 90000]\n",
        "y = []\n",
        "label = [\"Income Tax\",\"House Rent\",\"Medical Expense\"]\n",
        "for num in x:\n",
        "      ca = net_salary_calculator()\n",
        "      ca.inputval(0,1,num)\n",
        "      ca.calculator()\n",
        "      y.append((ca.itax,ca.hrent,ca.mexpense))              \n",
        "plt.plot(x, y)\n",
        "plt.legend(label)\n",
        "plt.show()      "
      ],
      "metadata": {
        "id": "BcWeykRpDiMV",
        "colab": {
          "base_uri": "https://localhost:8080/",
          "height": 265
        },
        "outputId": "392add6a-88d2-4385-88ad-83435ee216b0"
      },
      "execution_count": 6,
      "outputs": [
        {
          "output_type": "display_data",
          "data": {
            "text/plain": [
              "<Figure size 432x288 with 1 Axes>"
            ],
            "image/png": "[encoded data removed]"
          },
          "metadata": {
            "needs_background": "light"
          }
        }
      ]
    },
    {
      "cell_type": "code",
      "source": [],
      "metadata": {
        "id": "7LIx1J-BAXzc"
      },
      "execution_count": null,
      "outputs": []
    },
    {
      "cell_type": "markdown",
      "source": [
        "Example output:\n",
        "\n",
        "![image.png](data:image/png;base64,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)"
      ],
      "metadata": {
        "id": "nhW-sD8CA4kE"
      }
    },
    {
      "cell_type": "code",
      "source": [],
      "metadata": {
        "id": "oitX4fBTGlCM"
      },
      "execution_count": null,
      "outputs": []
    }
  ]
}