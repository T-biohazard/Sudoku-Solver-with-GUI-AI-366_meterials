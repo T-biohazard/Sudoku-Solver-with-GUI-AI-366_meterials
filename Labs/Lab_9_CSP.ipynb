{
  "nbformat": 4,
  "nbformat_minor": 0,
  "metadata": {
    "colab": {
      "provenance": []
    },
    "kernelspec": {
      "name": "python3",
      "display_name": "Python 3"
    },
    "language_info": {
      "name": "python"
    }
  },
  "cells": [
    {
      "cell_type": "markdown",
      "source": [
        "### Graph Coloring"
      ],
      "metadata": {
        "id": "YvZ7qeIuW9SK"
      }
    },
    {
      "cell_type": "code",
      "execution_count": null,
      "metadata": {
        "id": "XTrcFaNoUHOR"
      },
      "outputs": [],
      "source": [
        "def isSafe(graph, color):\n",
        "  \"\"\"\n",
        "  Check if the colored graph is safe or not\n",
        "  \"\"\"\n",
        "  for i in range(4):\n",
        "    for j in range(i+1,4):\n",
        "      if(graph[i][j] and color[j]==color[i]):\n",
        "        return False\n",
        "  return True"
      ]
    },
    {
      "cell_type": "code",
      "source": [
        "def printSolution(color):\n",
        "  print(\"Solution Exists: [Following are the assigned colors]\")\n",
        "  for i in range(4):\n",
        "    print(color[i],end=\" \")"
      ],
      "metadata": {
        "id": "Vb298MsBXaMh"
      },
      "execution_count": null,
      "outputs": []
    },
    {
      "cell_type": "code",
      "source": [
        "def graphColoring(graph, m, i, color):\n",
        "  # if current index reached end\n",
        "  if(i==4):\n",
        "    if(isSafe(graph,color)):\n",
        "      printSolution(color)\n",
        "      return True\n",
        "    return False\n",
        "\n",
        "  # Assign each color from 1 to m\n",
        "  for j in range(1, m+1):\n",
        "    color[i] = j\n",
        "    # Recursive call of the vertices\n",
        "    if(graphColoring(graph,m,i+1,color)):\n",
        "      return True\n",
        "    color[i]=0\n",
        "  return False\n"
      ],
      "metadata": {
        "id": "YdR-EVAJW786"
      },
      "execution_count": null,
      "outputs": []
    },
    {
      "cell_type": "code",
      "source": [
        "graph=[\n",
        "    [0,1,1,1],\n",
        "    [1,0,1,0],\n",
        "    [1,1,0,1],\n",
        "    [1,0,1,0]    \n",
        "]\n",
        "m = 3 # number of colors\n",
        "\n",
        "color = [0 for i in range(4)]\n",
        "\n",
        "if (not graphColoring(graph,m,0,color)):\n",
        "  print(\"Solution does not exist\")"
      ],
      "metadata": {
        "colab": {
          "base_uri": "https://localhost:8080/"
        },
        "id": "JRC3pBYlY4XI",
        "outputId": "8e234461-2d85-45cf-8aff-c69ecf2e975b"
      },
      "execution_count": null,
      "outputs": [
        {
          "output_type": "stream",
          "name": "stdout",
          "text": [
            "Solution Exists: [Following are the assigned colors]\n",
            "1 2 3 2 "
          ]
        }
      ]
    },
    {
      "cell_type": "markdown",
      "source": [
        "## Crypto arithmatic"
      ],
      "metadata": {
        "id": "OIxB6nK6aHuX"
      }
    },
    {
      "cell_type": "code",
      "source": [
        "# Example:\n",
        "# Equation = 'SEND + MORE = MONEY'\n",
        "# 1. substitute M = 2\n",
        "# 2. check:\n",
        "#     max = 9, min = 0\n",
        "#     compare max on left side with min on right side; 9999 + 2999 = 20000\n",
        "#     compare min on left side with max on right side; 0000 + 2000 = 29999\n",
        "#     if max_left < min_right or min_left > max_right:\n",
        "#        the current chosen substituations (M=2 in this example) can not\n",
        "#        lead to a valid solution"
      ],
      "metadata": {
        "id": "cX0vLeTsaHSw"
      },
      "execution_count": null,
      "outputs": []
    },
    {
      "cell_type": "code",
      "source": [
        "import itertools\n",
        "\n",
        "def get_value(word, substitution):\n",
        "  s = 0\n",
        "  factor = 1\n",
        "  for letter in reversed(word):\n",
        "    s+=factor * substitution[letter]\n",
        "    factor *=10\n",
        "  return s\n",
        "\n",
        "def cypto_solver(equation):\n",
        "  # split equation in left and right \n",
        "  left, right = equation.lower().replace(' ','').split('=')\n",
        "  # split words in left part\n",
        "  left = left.split('+')\n",
        "  # create list of used letters\n",
        "  letters  = set(right)\n",
        "\n",
        "  for word in left:\n",
        "    for letter in word:\n",
        "      letters.add(letter)\n",
        "  \n",
        "  letters = list(letters)\n",
        "\n",
        "  digits = range(10)\n",
        "\n",
        "  for perm in itertools.permutations(digits, len(letters)):\n",
        "    sol = dict(zip(letters,perm))\n",
        "\n",
        "    if sum(get_value(word,sol) for word in left) == get_value(right,sol):\n",
        "      print(' + '.join(str(get_value(word, sol)) for word in left) + \" = {}\\\n",
        "       (mapping: {})\".format(get_value(right,sol),sol))\n",
        "\n"
      ],
      "metadata": {
        "id": "lLDFW5wJZZnH"
      },
      "execution_count": null,
      "outputs": []
    },
    {
      "cell_type": "code",
      "source": [
        "cypto_solver('TWO+APPLE=FOUR')"
      ],
      "metadata": {
        "colab": {
          "base_uri": "https://localhost:8080/"
        },
        "id": "h-_Fq6jsfUm3",
        "outputId": "25ad05e0-063c-466d-d3e5-a565f69f351d"
      },
      "execution_count": null,
      "outputs": [
        {
          "output_type": "stream",
          "name": "stdout",
          "text": [
            "765 + 765 = 1530       (mapping: {'r': 0, 'u': 3, 't': 7, 'w': 6, 'f': 1, 'o': 5})\n",
            "836 + 836 = 1672       (mapping: {'r': 2, 'u': 7, 't': 8, 'w': 3, 'f': 1, 'o': 6})\n",
            "346 + 346 = 692       (mapping: {'r': 2, 'u': 9, 't': 3, 'w': 4, 'f': 0, 'o': 6})\n",
            "846 + 846 = 1692       (mapping: {'r': 2, 'u': 9, 't': 8, 'w': 4, 'f': 1, 'o': 6})\n",
            "357 + 357 = 714       (mapping: {'r': 4, 'u': 1, 't': 3, 'w': 5, 'f': 0, 'o': 7})\n",
            "867 + 867 = 1734       (mapping: {'r': 4, 'u': 3, 't': 8, 'w': 6, 'f': 1, 'o': 7})\n",
            "132 + 132 = 264       (mapping: {'r': 4, 'u': 6, 't': 1, 'w': 3, 'f': 0, 'o': 2})\n",
            "418 + 418 = 836       (mapping: {'r': 6, 'u': 3, 't': 4, 'w': 1, 'f': 0, 'o': 8})\n",
            "173 + 173 = 346       (mapping: {'r': 6, 'u': 4, 't': 1, 'w': 7, 'f': 0, 'o': 3})\n",
            "428 + 428 = 856       (mapping: {'r': 6, 'u': 5, 't': 4, 'w': 2, 'f': 0, 'o': 8})\n",
            "928 + 928 = 1856       (mapping: {'r': 6, 'u': 5, 't': 9, 'w': 2, 'f': 1, 'o': 8})\n",
            "438 + 438 = 876       (mapping: {'r': 6, 'u': 7, 't': 4, 'w': 3, 'f': 0, 'o': 8})\n",
            "938 + 938 = 1876       (mapping: {'r': 6, 'u': 7, 't': 9, 'w': 3, 'f': 1, 'o': 8})\n",
            "193 + 193 = 386       (mapping: {'r': 6, 'u': 8, 't': 1, 'w': 9, 'f': 0, 'o': 3})\n",
            "459 + 459 = 918       (mapping: {'r': 8, 'u': 1, 't': 4, 'w': 5, 'f': 0, 'o': 9})\n",
            "469 + 469 = 938       (mapping: {'r': 8, 'u': 3, 't': 4, 'w': 6, 'f': 0, 'o': 9})\n",
            "479 + 479 = 958       (mapping: {'r': 8, 'u': 5, 't': 4, 'w': 7, 'f': 0, 'o': 9})\n",
            "234 + 234 = 468       (mapping: {'r': 8, 'u': 6, 't': 2, 'w': 3, 'f': 0, 'o': 4})\n",
            "734 + 734 = 1468       (mapping: {'r': 8, 'u': 6, 't': 7, 'w': 3, 'f': 1, 'o': 4})\n"
          ]
        }
      ]
    },
    {
      "cell_type": "markdown",
      "source": [
        "### N queen"
      ],
      "metadata": {
        "id": "EFbg9Ib-ivyt"
      }
    },
    {
      "cell_type": "code",
      "source": [
        "global N\n",
        "N = 4\n",
        "\n",
        "def printSolution(board):\n",
        "  \"\"\"Print N queen board\n",
        "  \"\"\"\n",
        "  for i in range(N):\n",
        "    for j in range(N):\n",
        "      print(board[i][j], end= ' ')\n",
        "    print()\n",
        "\n",
        "def isSafe(board,row,col):\n",
        "  \"\"\"\n",
        "  A utility function to check if a queen can be placed on\n",
        "  board[row][col]. Note that this function is called \n",
        "  when \"col\" queens are already placed in columns from \n",
        "  0 to col-1. So we need to check only left side for\n",
        "  attacking queens\n",
        "  \"\"\"\n",
        "  # check this row on left side\n",
        "  for i in range(col):\n",
        "    if board[row][i] == 1:\n",
        "      return False\n",
        "\n",
        "  # check upper diagonal on left side\n",
        "  for i, j in zip(range(row,-1,-1), range(col,-1,-1)):\n",
        "    if board[i][j] == 1:\n",
        "      return False\n",
        "\n",
        "  # Check lower diagonal on left side\n",
        "  for i,j in zip(range(row,N,1),range(col,-1,-1)):\n",
        "    if board[i][j] == 1:\n",
        "      return False\n",
        "\n",
        "  return True\n",
        "    "
      ],
      "metadata": {
        "id": "S0kwKsr_fnxG"
      },
      "execution_count": null,
      "outputs": []
    },
    {
      "cell_type": "code",
      "source": [
        "def solve_nq_util(board,col):\n",
        "  # base case: If all queens are places\n",
        "  # then return true\n",
        "  if col >= N:\n",
        "    return True\n",
        "  \n",
        "  # Consider this column and try placing queens in all rows one by one\n",
        "  for i in range(N):\n",
        "    if isSafe(board, i , col):\n",
        "      # Plase this queen in board[i][col]\n",
        "      board[i][col] = 1\n",
        "\n",
        "      # recursive apporach to place rest of the queens\n",
        "      if solve_nq_util(board, col+1) == True:\n",
        "        return True\n",
        "\n",
        "      # if placing queen in board[i][col]\n",
        "      # doesnt lead to a solution, then \n",
        "      # queen from board [i][col]\n",
        "      board[i][col] = 0\n",
        "\n",
        "  # if this queen can not be placed in any row in \n",
        "  # this column col then return false\n",
        "  return False"
      ],
      "metadata": {
        "id": "4lm_CiUomARU"
      },
      "execution_count": null,
      "outputs": []
    },
    {
      "cell_type": "code",
      "source": [
        "def solve_nq():\n",
        "  \"\"\"\n",
        "  This function solves the N queen problem using \n",
        "  backtracking. It manily uses solve_nq_util() to \n",
        "  solve the problem.\n",
        "  It returns false if queens cannont be placed, otherwise\n",
        "  return true and placement of queens in the form of 1s.\n",
        "  not that there may be more than one solutions, this function prints\n",
        "  one of the feasible solutions\n",
        "  \"\"\"\n",
        "  board = [[0,0,0,0],\n",
        "           [0,0,0,0],\n",
        "           [0,0,0,0],\n",
        "           [0,0,0,0]\n",
        "           ]\n",
        "  if solve_nq_util(board,0)==False:\n",
        "    print(\"Solution does not exist\")\n",
        "    return False\n",
        "  \n",
        "  printSolution(board)\n",
        "  return True\n"
      ],
      "metadata": {
        "id": "Ws_XVF1nnS0U"
      },
      "execution_count": null,
      "outputs": []
    },
    {
      "cell_type": "code",
      "source": [
        "solve_nq()"
      ],
      "metadata": {
        "id": "eAgOjrfCpHQE",
        "outputId": "d81f5575-3f73-4339-f938-a985c59aaa87",
        "colab": {
          "base_uri": "https://localhost:8080/"
        }
      },
      "execution_count": null,
      "outputs": [
        {
          "output_type": "stream",
          "name": "stdout",
          "text": [
            "0 0 1 0 \n",
            "1 0 0 0 \n",
            "0 0 0 1 \n",
            "0 1 0 0 \n"
          ]
        },
        {
          "output_type": "execute_result",
          "data": {
            "text/plain": [
              "True"
            ]
          },
          "metadata": {},
          "execution_count": 18
        }
      ]
    },
    {
      "cell_type": "code",
      "source": [],
      "metadata": {
        "id": "JmabVbYrpJL6"
      },
      "execution_count": null,
      "outputs": []
    }
  ]
}